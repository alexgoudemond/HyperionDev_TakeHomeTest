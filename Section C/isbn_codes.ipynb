{
 "cells": [
  {
   "attachments": {},
   "cell_type": "markdown",
   "metadata": {},
   "source": [
    "# International Standard Book Numbers (ISBN) Codes"
   ]
  },
  {
   "attachments": {},
   "cell_type": "markdown",
   "metadata": {},
   "source": [
    "Author: Alexander Goudemond\n",
    "\n",
    "Date Created: 2023/01/18"
   ]
  },
  {
   "attachments": {},
   "cell_type": "markdown",
   "metadata": {},
   "source": [
    "# Problem Statement"
   ]
  },
  {
   "attachments": {},
   "cell_type": "markdown",
   "metadata": {},
   "source": [
    "Kindly note that the source material for this problem was published on edabit under [International Standard Book Numbers](https://edabit.com/challenge/C5mooK3wfdhoooeLw). The author chose to clone the problem statement from site, for ease of reading. What follows below is a clone of the problem statement only. Further sections in this notebook are the unique work done by the author, only this section is cloned from edabit."
   ]
  },
  {
   "attachments": {},
   "cell_type": "markdown",
   "metadata": {},
   "source": [
    "The International Standard Book Number (ISBN) is a unique identifying number given to each published book. ISBNs assigned after January 2007 are 13 digits long (ISBN-13), however books with 10-digit ISBNs are still in wide use.\n",
    "\n",
    "An ISBN-10 is verified this way:\n",
    "\n",
    "```\n",
    "isbn10 = \"0330301624\"\n",
    "```\n",
    "\n",
    "Line up the digits with the numbers 10 to 1:\n",
    "\n",
    "|    |   |   |   |   |   |   |   |   |   |\n",
    "|----|---|---|---|---|---|---|---|---|---|\n",
    "| 0  | 3 | 3 | 0 | 3 | 0 | 1 | 6 | 2 | 4 |\n",
    "| 10 | 9 | 8 | 7 | 6 | 5 | 4 | 3 | 2 | 1 |\n",
    "\n",
    "Multiply each digit with the number below it (the 10th digit in an ISBN can be an X. This last X simply means 10).\n",
    "\n",
    "Sum up the products:\n",
    "\n",
    "```\n",
    "0 + 27 + 24 + 0 + 18 + 0 + 4 + 18 + 4 + 4 = 99\n",
    "```\n",
    "\n",
    "If the sum is divisible by 11, the ISBN-10 is valid.\n",
    "\n",
    "An ISBN-13 is verified this way:\n",
    "\n",
    "```\n",
    "isbn13 = \"9780316066525\"\n",
    "```\n",
    "\n",
    "Line up the digits with alternating 1s and 3s:\n",
    "\n",
    "|   |   |   |   |   |   |   |   |   |   |   |   |   |\n",
    "|---|---|---|---|---|---|---|---|---|---|---|---|---|\n",
    "| 9 | 7 | 8 | 0 | 3 | 1 | 6 | 0 | 6 | 6 | 5 | 2 | 5 |\n",
    "| 1 | 3 | 1 | 3 | 1 | 3 | 1 | 3 | 1 | 3 | 1 | 3 | 1 |\n",
    "\n",
    "Multiply each digit with the number below it and get the sum:\n",
    "\n",
    "```\n",
    "9 + 21 + 8 + 0 + 3 + 3 + 6 + 0 + 6 + 18 + 5 + 6 + 5 = 90\n",
    "```\n",
    "\n",
    "If the sum is divisible by 10, the ISBN-13 is valid.\n",
    "\n",
    "Create a function that takes a string of numbers (possibly with an X at the end) and...\n",
    "\n",
    "    1.) Return \"Invalid\" if it is not a valid ISBN-10 or ISBN-13.\n",
    "\n",
    "    2.) Return \"Valid\" if it is a valid ISBN-13.\n",
    "\n",
    "    3.) If it is a valid ISBN-10, convert it into an ISBN-13 and return the ISBN-13 number.\n",
    "\n",
    "Convert a valid ISBN-10 to ISBN-13 by tacking 978 to the start, then changing the last digit (the check digit) so that the resulting number passes the ISBN-13 check.\n",
    "\n",
    "**Examples**\n",
    "\n",
    "```\n",
    "isbn13(\"9780316066525\") ➞ \"Valid\"\n",
    "\n",
    "isbn13(\"0330301824\") ➞ \"Invalid\"\n",
    "\n",
    "isbn13(\"0316066524\") ➞ \"9780316066525\"\n",
    "```\n",
    "\n",
    "**Notes**\n",
    "\n",
    "N/A"
   ]
  }
 ],
 "metadata": {
  "kernelspec": {
   "display_name": "Python 3",
   "language": "python",
   "name": "python3"
  },
  "language_info": {
   "name": "python",
   "version": "3.10.2 (tags/v3.10.2:a58ebcc, Jan 17 2022, 14:12:15) [MSC v.1929 64 bit (AMD64)]"
  },
  "orig_nbformat": 4,
  "vscode": {
   "interpreter": {
    "hash": "b5edf4aafd403b2cf70148be9c82615f50a58203d7c680f27448ae2b8dfe93f4"
   }
  }
 },
 "nbformat": 4,
 "nbformat_minor": 2
}
