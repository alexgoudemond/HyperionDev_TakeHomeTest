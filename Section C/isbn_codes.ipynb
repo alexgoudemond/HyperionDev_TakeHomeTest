{
 "cells": [
  {
   "attachments": {},
   "cell_type": "markdown",
   "metadata": {},
   "source": [
    "# International Standard Book Numbers (ISBN) Codes"
   ]
  },
  {
   "attachments": {},
   "cell_type": "markdown",
   "metadata": {},
   "source": [
    "Author: Alexander Goudemond\n",
    "\n",
    "Date Created: 2023/01/18"
   ]
  },
  {
   "attachments": {},
   "cell_type": "markdown",
   "metadata": {},
   "source": [
    "# Problem Statement\n",
    "\n",
    "Kindly note that the source material for this problem was published on edabit under [International Standard Book Numbers](https://edabit.com/challenge/C5mooK3wfdhoooeLw). The author chose to clone the problem statement from site, for ease of reading. What follows below is a clone of the problem statement only. Further sections in this notebook are the unique work done by the author, only this section is cloned from edabit."
   ]
  },
  {
   "attachments": {},
   "cell_type": "markdown",
   "metadata": {},
   "source": [
    "The International Standard Book Number (ISBN) is a unique identifying number given to each published book. ISBNs assigned after January 2007 are 13 digits long (ISBN-13), however books with 10-digit ISBNs are still in wide use.\n",
    "\n",
    "An ISBN-10 is verified this way:\n",
    "\n",
    "```\n",
    "isbn10 = \"0330301624\"\n",
    "```\n",
    "\n",
    "Line up the digits with the numbers 10 to 1:\n",
    "\n",
    "|    |   |   |   |   |   |   |   |   |   |\n",
    "|----|---|---|---|---|---|---|---|---|---|\n",
    "| 0  | 3 | 3 | 0 | 3 | 0 | 1 | 6 | 2 | 4 |\n",
    "| 10 | 9 | 8 | 7 | 6 | 5 | 4 | 3 | 2 | 1 |\n",
    "\n",
    "Multiply each digit with the number below it (the 10th digit in an ISBN can be an X. This last X simply means 10).\n",
    "\n",
    "Sum up the products:\n",
    "\n",
    "```\n",
    "0 + 27 + 24 + 0 + 18 + 0 + 4 + 18 + 4 + 4 = 99\n",
    "```\n",
    "\n",
    "If the sum is divisible by 11, the ISBN-10 is valid.\n",
    "\n",
    "An ISBN-13 is verified this way:\n",
    "\n",
    "```\n",
    "isbn13 = \"9780316066525\"\n",
    "```\n",
    "\n",
    "Line up the digits with alternating 1s and 3s:\n",
    "\n",
    "|   |   |   |   |   |   |   |   |   |   |   |   |   |\n",
    "|---|---|---|---|---|---|---|---|---|---|---|---|---|\n",
    "| 9 | 7 | 8 | 0 | 3 | 1 | 6 | 0 | 6 | 6 | 5 | 2 | 5 |\n",
    "| 1 | 3 | 1 | 3 | 1 | 3 | 1 | 3 | 1 | 3 | 1 | 3 | 1 |\n",
    "\n",
    "Multiply each digit with the number below it and get the sum:\n",
    "\n",
    "```\n",
    "9 + 21 + 8 + 0 + 3 + 3 + 6 + 0 + 6 + 18 + 5 + 6 + 5 = 90\n",
    "```\n",
    "\n",
    "If the sum is divisible by 10, the ISBN-13 is valid.\n",
    "\n",
    "Create a function that takes a string of numbers (possibly with an X at the end) and...\n",
    "\n",
    "    1.) Return \"Invalid\" if it is not a valid ISBN-10 or ISBN-13.\n",
    "\n",
    "    2.) Return \"Valid\" if it is a valid ISBN-13.\n",
    "\n",
    "    3.) If it is a valid ISBN-10, convert it into an ISBN-13 and return the ISBN-13 number.\n",
    "\n",
    "Convert a valid ISBN-10 to ISBN-13 by tacking 978 to the start, then changing the last digit (the check digit) so that the resulting number passes the ISBN-13 check.\n",
    "\n",
    "**Examples**\n",
    "\n",
    "```\n",
    "isbn13(\"9780316066525\") ➞ \"Valid\"\n",
    "\n",
    "isbn13(\"0330301824\") ➞ \"Invalid\"\n",
    "\n",
    "isbn13(\"0316066524\") ➞ \"9780316066525\"\n",
    "```\n",
    "\n",
    "**Notes**\n",
    "\n",
    "N/A"
   ]
  },
  {
   "attachments": {},
   "cell_type": "markdown",
   "metadata": {},
   "source": [
    "# Code Proposed Solution\n",
    "\n",
    "Kindly note that the solution below is the original work of the author"
   ]
  },
  {
   "attachments": {},
   "cell_type": "markdown",
   "metadata": {},
   "source": [
    "We seek to design a program that can take in a String and determine if it is a valid ISBN-10 or ISBN-13 number. In the even that an ISBN-10 number is valid, we can then also convert it into an ISBN-13 number.\n",
    "\n",
    "To achieve this, we can approach the problem in the following steps:\n",
    "\n",
    "    1.) Sanitise and Parse the input, so only valid Strings progress\n",
    "    2.) Verify an ISBN-10 code\n",
    "    3.) Verify an ISBN-13 code\n",
    "        - if ISBN-10 code provided, convert into an ISBN-13 code\n",
    "\n",
    "Once complete, the author will migrate this code into a single executable python program, so that the reader may interact with it."
   ]
  },
  {
   "attachments": {},
   "cell_type": "markdown",
   "metadata": {},
   "source": [
    "## Dependencies\n",
    "\n",
    "The following dependencies need to be installed, in order for this notebook to work\n",
    "\n",
    "- Python3\n",
    "- Pip\n",
    "- Jupyter"
   ]
  },
  {
   "cell_type": "code",
   "execution_count": 4,
   "metadata": {},
   "outputs": [
    {
     "name": "stdout",
     "output_type": "stream",
     "text": [
      "Requirement already satisfied: jupyter in c:\\users\\alexg\\appdata\\roaming\\python\\python310\\site-packages (1.0.0)\n",
      "Requirement already satisfied: notebook in c:\\users\\alexg\\appdata\\roaming\\python\\python310\\site-packages (from jupyter) (6.4.5)\n",
      "Requirement already satisfied: qtconsole in c:\\users\\alexg\\appdata\\roaming\\python\\python310\\site-packages (from jupyter) (5.2.0)\n",
      "Requirement already satisfied: nbconvert in c:\\users\\alexg\\appdata\\roaming\\python\\python310\\site-packages (from jupyter) (6.3.0)\n",
      "Requirement already satisfied: ipykernel in c:\\users\\alexg\\appdata\\roaming\\python\\python310\\site-packages (from jupyter) (6.5.0)\n",
      "Requirement already satisfied: jupyter-console in c:\\users\\alexg\\appdata\\roaming\\python\\python310\\site-packages (from jupyter) (6.4.0)\n",
      "Requirement already satisfied: ipywidgets in c:\\users\\alexg\\appdata\\roaming\\python\\python310\\site-packages (from jupyter) (7.6.5)\n",
      "Requirement already satisfied: tornado<7.0,>=4.2 in c:\\users\\alexg\\appdata\\roaming\\python\\python310\\site-packages (from ipykernel->jupyter) (6.1)\n",
      "Requirement already satisfied: traitlets<6.0,>=5.1.0 in c:\\users\\alexg\\appdata\\roaming\\python\\python310\\site-packages (from ipykernel->jupyter) (5.1.1)\n",
      "Requirement already satisfied: jupyter-client<8.0 in c:\\users\\alexg\\appdata\\roaming\\python\\python310\\site-packages (from ipykernel->jupyter) (7.0.6)\n",
      "Requirement already satisfied: debugpy<2.0,>=1.0.0 in c:\\users\\alexg\\appdata\\roaming\\python\\python310\\site-packages (from ipykernel->jupyter) (1.5.1)\n",
      "Requirement already satisfied: matplotlib-inline<0.2.0,>=0.1.0 in c:\\users\\alexg\\appdata\\roaming\\python\\python310\\site-packages (from ipykernel->jupyter) (0.1.3)\n",
      "Requirement already satisfied: ipython<8.0,>=7.23.1 in c:\\users\\alexg\\appdata\\roaming\\python\\python310\\site-packages (from ipykernel->jupyter) (7.29.0)\n",
      "Requirement already satisfied: ipython-genutils~=0.2.0 in c:\\users\\alexg\\appdata\\roaming\\python\\python310\\site-packages (from ipywidgets->jupyter) (0.2.0)\n",
      "Requirement already satisfied: nbformat>=4.2.0 in c:\\users\\alexg\\appdata\\roaming\\python\\python310\\site-packages (from ipywidgets->jupyter) (5.1.3)\n",
      "Requirement already satisfied: jupyterlab-widgets>=1.0.0 in c:\\users\\alexg\\appdata\\roaming\\python\\python310\\site-packages (from ipywidgets->jupyter) (1.0.2)\n",
      "Requirement already satisfied: widgetsnbextension~=3.5.0 in c:\\users\\alexg\\appdata\\roaming\\python\\python310\\site-packages (from ipywidgets->jupyter) (3.5.2)\n"
     ]
    },
    {
     "name": "stderr",
     "output_type": "stream",
     "text": [
      "WARNING: There was an error checking the latest version of pip.\n"
     ]
    },
    {
     "name": "stdout",
     "output_type": "stream",
     "text": [
      "Requirement already satisfied: pygments in c:\\users\\alexg\\appdata\\roaming\\python\\python310\\site-packages (from jupyter-console->jupyter) (2.10.0)\n",
      "Requirement already satisfied: prompt-toolkit!=3.0.0,!=3.0.1,<3.1.0,>=2.0.0 in c:\\users\\alexg\\appdata\\roaming\\python\\python310\\site-packages (from jupyter-console->jupyter) (3.0.22)\n",
      "Requirement already satisfied: testpath in c:\\users\\alexg\\appdata\\roaming\\python\\python310\\site-packages (from nbconvert->jupyter) (0.5.0)\n",
      "Requirement already satisfied: mistune<2,>=0.8.1 in c:\\users\\alexg\\appdata\\roaming\\python\\python310\\site-packages (from nbconvert->jupyter) (0.8.4)\n",
      "Requirement already satisfied: jupyter-core in c:\\users\\alexg\\appdata\\roaming\\python\\python310\\site-packages (from nbconvert->jupyter) (4.9.1)\n",
      "Requirement already satisfied: defusedxml in c:\\users\\alexg\\appdata\\roaming\\python\\python310\\site-packages (from nbconvert->jupyter) (0.7.1)\n",
      "Requirement already satisfied: jinja2>=2.4 in c:\\users\\alexg\\appdata\\roaming\\python\\python310\\site-packages (from nbconvert->jupyter) (3.0.3)\n",
      "Requirement already satisfied: bleach in c:\\users\\alexg\\appdata\\roaming\\python\\python310\\site-packages (from nbconvert->jupyter) (4.1.0)\n",
      "Requirement already satisfied: nbclient<0.6.0,>=0.5.0 in c:\\users\\alexg\\appdata\\roaming\\python\\python310\\site-packages (from nbconvert->jupyter) (0.5.8)\n",
      "Requirement already satisfied: entrypoints>=0.2.2 in c:\\users\\alexg\\appdata\\roaming\\python\\python310\\site-packages (from nbconvert->jupyter) (0.3)\n",
      "Requirement already satisfied: pandocfilters>=1.4.1 in c:\\users\\alexg\\appdata\\roaming\\python\\python310\\site-packages (from nbconvert->jupyter) (1.5.0)\n",
      "Requirement already satisfied: jupyterlab-pygments in c:\\users\\alexg\\appdata\\roaming\\python\\python310\\site-packages (from nbconvert->jupyter) (0.1.2)\n",
      "Requirement already satisfied: terminado>=0.8.3 in c:\\users\\alexg\\appdata\\roaming\\python\\python310\\site-packages (from notebook->jupyter) (0.12.1)\n",
      "Requirement already satisfied: Send2Trash>=1.5.0 in c:\\users\\alexg\\appdata\\roaming\\python\\python310\\site-packages (from notebook->jupyter) (1.8.0)\n",
      "Requirement already satisfied: prometheus-client in c:\\users\\alexg\\appdata\\roaming\\python\\python310\\site-packages (from notebook->jupyter) (0.12.0)\n",
      "Requirement already satisfied: pyzmq>=17 in c:\\users\\alexg\\appdata\\roaming\\python\\python310\\site-packages (from notebook->jupyter) (22.3.0)\n",
      "Requirement already satisfied: argon2-cffi in c:\\users\\alexg\\appdata\\roaming\\python\\python310\\site-packages (from notebook->jupyter) (21.1.0)\n",
      "Requirement already satisfied: qtpy in c:\\users\\alexg\\appdata\\roaming\\python\\python310\\site-packages (from qtconsole->jupyter) (1.11.2)\n",
      "Requirement already satisfied: jedi>=0.16 in c:\\users\\alexg\\appdata\\roaming\\python\\python310\\site-packages (from ipython<8.0,>=7.23.1->ipykernel->jupyter) (0.18.0)\n",
      "Requirement already satisfied: backcall in c:\\users\\alexg\\appdata\\roaming\\python\\python310\\site-packages (from ipython<8.0,>=7.23.1->ipykernel->jupyter) (0.2.0)\n",
      "Requirement already satisfied: setuptools>=18.5 in c:\\users\\alexg\\appdata\\local\\programs\\python\\python310\\lib\\site-packages (from ipython<8.0,>=7.23.1->ipykernel->jupyter) (58.1.0)\n",
      "Requirement already satisfied: colorama in c:\\users\\alexg\\appdata\\roaming\\python\\python310\\site-packages (from ipython<8.0,>=7.23.1->ipykernel->jupyter) (0.4.4)\n",
      "Requirement already satisfied: pickleshare in c:\\users\\alexg\\appdata\\roaming\\python\\python310\\site-packages (from ipython<8.0,>=7.23.1->ipykernel->jupyter) (0.7.5)\n",
      "Requirement already satisfied: decorator in c:\\users\\alexg\\appdata\\roaming\\python\\python310\\site-packages (from ipython<8.0,>=7.23.1->ipykernel->jupyter) (5.1.0)\n",
      "Requirement already satisfied: MarkupSafe>=2.0 in c:\\users\\alexg\\appdata\\roaming\\python\\python310\\site-packages (from jinja2>=2.4->nbconvert->jupyter) (2.0.1)\n",
      "Requirement already satisfied: nest-asyncio>=1.5 in c:\\users\\alexg\\appdata\\roaming\\python\\python310\\site-packages (from jupyter-client<8.0->ipykernel->jupyter) (1.5.1)\n",
      "Requirement already satisfied: python-dateutil>=2.1 in c:\\users\\alexg\\appdata\\roaming\\python\\python310\\site-packages (from jupyter-client<8.0->ipykernel->jupyter) (2.8.2)\n",
      "Requirement already satisfied: pywin32>=1.0 in c:\\users\\alexg\\appdata\\roaming\\python\\python310\\site-packages (from jupyter-core->nbconvert->jupyter) (302)\n",
      "Requirement already satisfied: jsonschema!=2.5.0,>=2.4 in c:\\users\\alexg\\appdata\\roaming\\python\\python310\\site-packages (from nbformat>=4.2.0->ipywidgets->jupyter) (4.2.1)\n",
      "Requirement already satisfied: wcwidth in c:\\users\\alexg\\appdata\\roaming\\python\\python310\\site-packages (from prompt-toolkit!=3.0.0,!=3.0.1,<3.1.0,>=2.0.0->jupyter-console->jupyter) (0.2.5)\n",
      "Requirement already satisfied: pywinpty>=1.1.0 in c:\\users\\alexg\\appdata\\roaming\\python\\python310\\site-packages (from terminado>=0.8.3->notebook->jupyter) (1.1.5)\n",
      "Requirement already satisfied: cffi>=1.0.0 in c:\\users\\alexg\\appdata\\roaming\\python\\python310\\site-packages (from argon2-cffi->notebook->jupyter) (1.15.0)\n",
      "Requirement already satisfied: packaging in c:\\users\\alexg\\appdata\\roaming\\python\\python310\\site-packages (from bleach->nbconvert->jupyter) (21.2)\n",
      "Requirement already satisfied: webencodings in c:\\users\\alexg\\appdata\\roaming\\python\\python310\\site-packages (from bleach->nbconvert->jupyter) (0.5.1)\n",
      "Requirement already satisfied: six>=1.9.0 in c:\\users\\alexg\\appdata\\roaming\\python\\python310\\site-packages (from bleach->nbconvert->jupyter) (1.16.0)\n",
      "Requirement already satisfied: pycparser in c:\\users\\alexg\\appdata\\roaming\\python\\python310\\site-packages (from cffi>=1.0.0->argon2-cffi->notebook->jupyter) (2.21)\n",
      "Requirement already satisfied: parso<0.9.0,>=0.8.0 in c:\\users\\alexg\\appdata\\roaming\\python\\python310\\site-packages (from jedi>=0.16->ipython<8.0,>=7.23.1->ipykernel->jupyter) (0.8.2)\n",
      "Requirement already satisfied: pyrsistent!=0.17.0,!=0.17.1,!=0.17.2,>=0.14.0 in c:\\users\\alexg\\appdata\\roaming\\python\\python310\\site-packages (from jsonschema!=2.5.0,>=2.4->nbformat>=4.2.0->ipywidgets->jupyter) (0.18.0)\n",
      "Requirement already satisfied: attrs>=17.4.0 in c:\\users\\alexg\\appdata\\roaming\\python\\python310\\site-packages (from jsonschema!=2.5.0,>=2.4->nbformat>=4.2.0->ipywidgets->jupyter) (21.2.0)\n",
      "Requirement already satisfied: pyparsing<3,>=2.0.2 in c:\\users\\alexg\\appdata\\roaming\\python\\python310\\site-packages (from packaging->bleach->nbconvert->jupyter) (2.4.7)\n"
     ]
    }
   ],
   "source": [
    "!pip install jupyter"
   ]
  },
  {
   "attachments": {},
   "cell_type": "markdown",
   "metadata": {},
   "source": [
    "## Sanitise and Parse input"
   ]
  },
  {
   "cell_type": "code",
   "execution_count": null,
   "metadata": {},
   "outputs": [],
   "source": [
    "# Begin with a sample input\n",
    "userInput = \"0330301624\""
   ]
  },
  {
   "attachments": {},
   "cell_type": "markdown",
   "metadata": {},
   "source": [
    "We need to check that the length of the string is either 10 or 13, and all characters are digits UNLESS the final digit is an X. Only the final character is allowed to be an X, which denotes a value of 10"
   ]
  },
  {
   "cell_type": "code",
   "execution_count": 19,
   "metadata": {},
   "outputs": [
    {
     "data": {
      "text/plain": [
       "48"
      ]
     },
     "execution_count": 19,
     "metadata": {},
     "output_type": "execute_result"
    }
   ],
   "source": [
    "ord(\"0\")"
   ]
  },
  {
   "cell_type": "code",
   "execution_count": 20,
   "metadata": {},
   "outputs": [
    {
     "data": {
      "text/plain": [
       "57"
      ]
     },
     "execution_count": 20,
     "metadata": {},
     "output_type": "execute_result"
    }
   ],
   "source": [
    "ord(\"9\")"
   ]
  },
  {
   "cell_type": "code",
   "execution_count": 50,
   "metadata": {},
   "outputs": [],
   "source": [
    "def validateInputLength(userInput, desiredLength):\n",
    "    while (len(userInput) != desiredLength ):\n",
    "        userInput = input(\"Please enter a number that contains \\'\" + str(desiredLength) + \"\\' characters: \")\n",
    "    return userInput\n",
    "\n",
    "# check each digit is valid\n",
    "def ensureIsbnDigits(userInput, desiredLength):\n",
    "    userInput = validateInputLength(userInput, desiredLength)\n",
    "    userInput = userInput.upper() # uppercase, to ignore case for 'X'\n",
    "    \n",
    "    validInput = True\n",
    "\n",
    "    while (True):\n",
    "        validInput = True\n",
    "\n",
    "        for i in range(len(userInput)):\n",
    "            # valid final char\n",
    "            if (i == len(userInput)-1 and userInput[i] == 'X'):\n",
    "                continue\n",
    "            if (ord(userInput[i]) < ord(\"0\") or ord(userInput[i]) > ord(\"9\") ):\n",
    "                validInput = False; break\n",
    "        \n",
    "        if (not validInput):\n",
    "            print(\"Invalid code entered. All characters should be digits, unless the final character is \\'X\\'\")\n",
    "            userInput = validateInputLength(\"\", desiredLength)\n",
    "            userInput = userInput.upper() # uppercase, to ignore case for 'X'\n",
    "        else:\n",
    "            break\n",
    "    \n",
    "    return userInput       "
   ]
  },
  {
   "cell_type": "code",
   "execution_count": 17,
   "metadata": {},
   "outputs": [
    {
     "name": "stdout",
     "output_type": "stream",
     "text": [
      "1234567891\n"
     ]
    }
   ],
   "source": [
    "userInput = validateInputLength(userInput=\"\", desiredLength=10)\n",
    "\n",
    "print(userInput)"
   ]
  },
  {
   "cell_type": "code",
   "execution_count": 18,
   "metadata": {},
   "outputs": [
    {
     "name": "stdout",
     "output_type": "stream",
     "text": [
      "1234567891234\n"
     ]
    }
   ],
   "source": [
    "userInput = validateInputLength(userInput=\"\", desiredLength=13)\n",
    "\n",
    "print(userInput)"
   ]
  },
  {
   "cell_type": "code",
   "execution_count": 51,
   "metadata": {},
   "outputs": [
    {
     "name": "stdout",
     "output_type": "stream",
     "text": [
      "123456789X\n"
     ]
    }
   ],
   "source": [
    "userInput = ensureIsbnDigits(userInput=\"\", desiredLength=10)\n",
    "\n",
    "print(userInput)"
   ]
  },
  {
   "cell_type": "code",
   "execution_count": 52,
   "metadata": {},
   "outputs": [
    {
     "name": "stdout",
     "output_type": "stream",
     "text": [
      "Invalid code entered. All characters should be digits, unless the final character is 'X'\n",
      "123456789123X\n"
     ]
    }
   ],
   "source": [
    "userInput = ensureIsbnDigits(userInput=\"\", desiredLength=13)\n",
    "\n",
    "print(userInput)"
   ]
  },
  {
   "attachments": {},
   "cell_type": "markdown",
   "metadata": {},
   "source": [
    "## Verify ISBN-10 and ISBN-13"
   ]
  },
  {
   "cell_type": "code",
   "execution_count": 161,
   "metadata": {},
   "outputs": [],
   "source": [
    "# follow rule for checking ISBN-10\n",
    "def isbn10Algorithm(number):\n",
    "    startingNum = 10\n",
    "    answer = 0\n",
    "\n",
    "    for digit in number:\n",
    "        if (digit == \"X\"):\n",
    "            answer += 10 * startingNum\n",
    "\n",
    "        answer += int(digit) * startingNum\n",
    "        startingNum -= 1\n",
    "    \n",
    "    return answer\n",
    "\n",
    "# follow rule for checking ISBN-13\n",
    "def isbn13Algorithm(number):\n",
    "    multiple = -1\n",
    "    answer = 0\n",
    "\n",
    "    for i in range(len(number)):\n",
    "        if (i % 2 == 0):    multiple = 1\n",
    "        else:               multiple = 3\n",
    "\n",
    "        if (number[i] == \"X\"):\n",
    "            answer += 10 * multiple\n",
    "\n",
    "        answer += int(number[i]) * multiple\n",
    "    \n",
    "    return answer\n",
    "\n",
    "\n",
    "def checkIsbn10(number):\n",
    "    if (len(number) != 10):\n",
    "        return \"Invalid\"\n",
    "\n",
    "    answer = isbn10Algorithm(number)\n",
    "\n",
    "    if (answer % 11 == 0):\n",
    "        return \"Valid\"\n",
    "    else:\n",
    "        return \"Invalid\"\n",
    "\n",
    "# ensure handle conversion to isbn-13 where necessary\n",
    "def checkIsbn13(number):\n",
    "    if (len(number) == 10):\n",
    "        number = convertIsbn10ToIsbn13(number)\n",
    "    elif (len(number) != 13):\n",
    "        return \"Invalid\"\n",
    "        \n",
    "    answer = isbn13Algorithm(number)\n",
    "        \n",
    "    if (answer % 10 == 0):\n",
    "        return \"Valid\"\n",
    "    else:\n",
    "        return \"Invalid\"\n",
    "\n",
    "\n",
    "'''\n",
    "Trick here is to calculate ISBN-13 as per normal, BUT, the final digit is\n",
    "decided by the 'roof' of the incomplete sum!\n",
    "i.e. 9780316066524 --> 978031606652_                                    # Ignore the last digit\n",
    "                   --> 9 + 21 + 8 + 0 + 3 + 3 + 6 + 0 + 6 + 18 + 5 + 6  # Follow the ISBN-13 algorithm\n",
    "                   --> sum is 85\n",
    "                   --> roof(85) == 90                                   # algorithm divides by 10\n",
    "                   --> 90 - 85 == 5, therefore the final digit should be 5\n",
    "     \n",
    "'''\n",
    "def convertIsbn10ToIsbn13(number):\n",
    "    # if (checkIsbn10(number) == \"Invalid\"):\n",
    "    #     print(\"Original Number to is not a Valid ISBN-10 code\")\n",
    "    \n",
    "    # print(\"Original Number: \", number)\n",
    "    \n",
    "    # modify number\n",
    "    number = \"978\" + number[0 : -1]\n",
    "\n",
    "    answer = isbn13Algorithm(number)\n",
    "    \n",
    "    # Apply logic for last digit\n",
    "    if (answer % 10 == 0):\n",
    "        finalDigit = 0\n",
    "    else:\n",
    "        finalDigit = 10 - int(str(answer)[-1]) # isolate final digit using String indexing\n",
    "    \n",
    "    # print(\"Answer:\", answer)\n",
    "    # print(\"Final Digit:\", finalDigit)\n",
    "\n",
    "    number += str(finalDigit)\n",
    "\n",
    "    # print(\"New Number:      \", number)\n",
    "    \n",
    "    return number   "
   ]
  },
  {
   "cell_type": "code",
   "execution_count": 100,
   "metadata": {},
   "outputs": [
    {
     "data": {
      "text/plain": [
       "'Invalid'"
      ]
     },
     "execution_count": 100,
     "metadata": {},
     "output_type": "execute_result"
    }
   ],
   "source": [
    "checkIsbn10(\"0330301623\")"
   ]
  },
  {
   "cell_type": "code",
   "execution_count": 101,
   "metadata": {},
   "outputs": [
    {
     "data": {
      "text/plain": [
       "'Valid'"
      ]
     },
     "execution_count": 101,
     "metadata": {},
     "output_type": "execute_result"
    }
   ],
   "source": [
    "checkIsbn10(\"0330301624\")"
   ]
  },
  {
   "cell_type": "code",
   "execution_count": 94,
   "metadata": {},
   "outputs": [
    {
     "data": {
      "text/plain": [
       "'Invalid'"
      ]
     },
     "execution_count": 94,
     "metadata": {},
     "output_type": "execute_result"
    }
   ],
   "source": [
    "checkIsbn13(\"9780316066524\")"
   ]
  },
  {
   "cell_type": "code",
   "execution_count": 95,
   "metadata": {},
   "outputs": [
    {
     "data": {
      "text/plain": [
       "'Valid'"
      ]
     },
     "execution_count": 95,
     "metadata": {},
     "output_type": "execute_result"
    }
   ],
   "source": [
    "checkIsbn13(\"9780316066525\")"
   ]
  },
  {
   "cell_type": "code",
   "execution_count": 97,
   "metadata": {},
   "outputs": [
    {
     "data": {
      "text/plain": [
       "'9780316066525'"
      ]
     },
     "execution_count": 97,
     "metadata": {},
     "output_type": "execute_result"
    }
   ],
   "source": [
    "convertIsbn10ToIsbn13(\"0316066524\")"
   ]
  },
  {
   "cell_type": "code",
   "execution_count": 98,
   "metadata": {},
   "outputs": [
    {
     "name": "stdout",
     "output_type": "stream",
     "text": [
      "Original Number to is not a Valid ISBN-10 code\n"
     ]
    },
    {
     "data": {
      "text/plain": [
       "'9780316066518'"
      ]
     },
     "execution_count": 98,
     "metadata": {},
     "output_type": "execute_result"
    }
   ],
   "source": [
    "convertIsbn10ToIsbn13(\"0316066514\")"
   ]
  },
  {
   "attachments": {},
   "cell_type": "markdown",
   "metadata": {},
   "source": [
    "## Test cases"
   ]
  },
  {
   "cell_type": "code",
   "execution_count": 127,
   "metadata": {},
   "outputs": [],
   "source": [
    "def evalIsbn10(number):\n",
    "    if (len(number)  != 10):\n",
    "        return \"Invalid length\"\n",
    "\n",
    "    startingNum = 10\n",
    "    answerString = \"\"\n",
    "\n",
    "    for digit in number:\n",
    "        if (digit == \"X\"):\n",
    "            answerString += \"10 * \" + str(startingNum)\n",
    "\n",
    "        answerString += digit + \" * \" + str(startingNum)\n",
    "        startingNum -= 1\n",
    "\n",
    "        answerString += \" + \"\n",
    "    \n",
    "    return answerString[0 : -3] # remove last 3 symbols\n",
    "\n",
    "def evalIsbn13(number):   \n",
    "    if (len(number) == 10):\n",
    "        number = convertIsbn10ToIsbn13(number)\n",
    "    elif (len(number) != 13):\n",
    "        return \"Invalid\"\n",
    "\n",
    "    multiple = -1\n",
    "    answerString = \"\"\n",
    "\n",
    "    for i in range(len(number)):\n",
    "        if (i % 2 == 0):    multiple = 1\n",
    "        else:               multiple = 3\n",
    "\n",
    "        if (number[i] == \"X\"):\n",
    "            answerString += \"10 * \" + str(multiple)\n",
    "\n",
    "        answerString += number[i] + \" * \" + str(multiple)\n",
    "    \n",
    "        answerString += \" + \"\n",
    "    \n",
    "    return answerString[0 : -3]"
   ]
  },
  {
   "attachments": {},
   "cell_type": "markdown",
   "metadata": {},
   "source": [
    "ISBN-10 Checks"
   ]
  },
  {
   "cell_type": "code",
   "execution_count": 149,
   "metadata": {},
   "outputs": [
    {
     "name": "stdout",
     "output_type": "stream",
     "text": [
      "Invalid length == 110\n",
      "Invalid\n"
     ]
    }
   ],
   "source": [
    "# test with wrong number of characters\n",
    "test = \"12345\"\n",
    "print(evalIsbn10(test), \"==\", isbn10Algorithm(test)) # algorithm works with any length, for flexibility\n",
    "print(checkIsbn10(test))"
   ]
  },
  {
   "cell_type": "code",
   "execution_count": 150,
   "metadata": {},
   "outputs": [
    {
     "name": "stdout",
     "output_type": "stream",
     "text": [
      "Invalid length == 211\n",
      "Invalid\n"
     ]
    }
   ],
   "source": [
    "# test with wrong number of characters\n",
    "test = \"12345678912\"\n",
    "print(evalIsbn10(test), \"==\", isbn10Algorithm(test)) # algorithm works with any length, for flexibility\n",
    "print(checkIsbn10(test))"
   ]
  },
  {
   "attachments": {},
   "cell_type": "markdown",
   "metadata": {},
   "source": [
    "Valid numbers are divisible by 11..."
   ]
  },
  {
   "cell_type": "code",
   "execution_count": 113,
   "metadata": {},
   "outputs": [
    {
     "name": "stdout",
     "output_type": "stream",
     "text": [
      "0 * 10 + 3 * 9 + 3 * 8 + 0 * 7 + 3 * 6 + 0 * 5 + 1 * 4 + 6 * 3 + 2 * 2 + 4 * 1 == 99\n",
      "Valid\n"
     ]
    }
   ],
   "source": [
    "# test valid number\n",
    "test = \"0330301624\"\n",
    "print(evalIsbn10(test), \"==\", isbn10Algorithm(test)) # algorithm works with any length, for flexibility\n",
    "print(checkIsbn10(test))"
   ]
  },
  {
   "cell_type": "code",
   "execution_count": 151,
   "metadata": {},
   "outputs": [
    {
     "name": "stdout",
     "output_type": "stream",
     "text": [
      "0 * 10 + 3 * 9 + 3 * 8 + 0 * 7 + 3 * 6 + 0 * 5 + 1 * 4 + 6 * 3 + 2 * 2 + 5 * 1 == 100\n",
      "Invalid\n"
     ]
    }
   ],
   "source": [
    "# test invalid number\n",
    "test = \"0330301625\"\n",
    "print(evalIsbn10(test), \"==\", isbn10Algorithm(test)) # algorithm works with any length, for flexibility\n",
    "print(checkIsbn10(test))"
   ]
  },
  {
   "attachments": {},
   "cell_type": "markdown",
   "metadata": {},
   "source": [
    "ISBN-13 Checks"
   ]
  },
  {
   "cell_type": "code",
   "execution_count": 152,
   "metadata": {},
   "outputs": [
    {
     "name": "stdout",
     "output_type": "stream",
     "text": [
      "Invalid == 27\n",
      "Invalid\n"
     ]
    }
   ],
   "source": [
    "# test with wrong number of characters\n",
    "test = \"12345\"\n",
    "print(evalIsbn13(test), \"==\", isbn13Algorithm(test)) # algorithm works with any length, for flexibility\n",
    "print(checkIsbn13(test))"
   ]
  },
  {
   "cell_type": "code",
   "execution_count": 153,
   "metadata": {},
   "outputs": [
    {
     "name": "stdout",
     "output_type": "stream",
     "text": [
      "Invalid == 107\n",
      "Invalid\n"
     ]
    }
   ],
   "source": [
    "# test with wrong number of characters\n",
    "test = \"12345678901234\"\n",
    "print(evalIsbn13(test), \"==\", isbn13Algorithm(test)) # algorithm works with any length, for flexibility\n",
    "print(checkIsbn13(test))"
   ]
  },
  {
   "cell_type": "code",
   "execution_count": 154,
   "metadata": {},
   "outputs": [
    {
     "name": "stdout",
     "output_type": "stream",
     "text": [
      "9 * 1 + 7 * 3 + 8 * 1 + 0 * 3 + 3 * 1 + 1 * 3 + 6 * 1 + 0 * 3 + 6 * 1 + 6 * 3 + 5 * 1 + 2 * 3 + 5 * 1 == 90\n",
      "Valid\n"
     ]
    }
   ],
   "source": [
    "# test with valid number\n",
    "test = \"9780316066525\"\n",
    "print(evalIsbn13(test), \"==\", isbn13Algorithm(test)) # algorithm works with any length, for flexibility\n",
    "print(checkIsbn13(test))"
   ]
  },
  {
   "cell_type": "code",
   "execution_count": 155,
   "metadata": {},
   "outputs": [
    {
     "name": "stdout",
     "output_type": "stream",
     "text": [
      "9 * 1 + 7 * 3 + 8 * 1 + 0 * 3 + 3 * 1 + 1 * 3 + 6 * 1 + 0 * 3 + 6 * 1 + 6 * 3 + 5 * 1 + 2 * 3 + 4 * 1 == 89\n",
      "Invalid\n"
     ]
    }
   ],
   "source": [
    "# test with invalid number\n",
    "test = \"9780316066524\"\n",
    "print(evalIsbn13(test), \"==\", isbn13Algorithm(test)) # algorithm works with any length, for flexibility\n",
    "print(checkIsbn13(test))"
   ]
  },
  {
   "attachments": {},
   "cell_type": "markdown",
   "metadata": {},
   "source": [
    "ISBN-10 conversions to ISBN-13"
   ]
  },
  {
   "cell_type": "code",
   "execution_count": 163,
   "metadata": {},
   "outputs": [
    {
     "name": "stdout",
     "output_type": "stream",
     "text": [
      "9 * 1 + 7 * 3 + 8 * 1 + 0 * 3 + 3 * 1 + 3 * 3 + 0 * 1 + 3 * 3 + 0 * 1 + 1 * 3 + 8 * 1 + 2 * 3 + 4 * 1 == 80\n",
      "Valid\n"
     ]
    }
   ],
   "source": [
    "# test simple number\n",
    "test = \"0330301824\"\n",
    "print(evalIsbn13(test), \"==\", isbn13Algorithm( convertIsbn10ToIsbn13(test) )) # convert for algorithm necessary just for testing\n",
    "print(checkIsbn13(test))"
   ]
  },
  {
   "cell_type": "code",
   "execution_count": 164,
   "metadata": {},
   "outputs": [
    {
     "name": "stdout",
     "output_type": "stream",
     "text": [
      "9 * 1 + 7 * 3 + 8 * 1 + 0 * 3 + 3 * 1 + 1 * 3 + 6 * 1 + 0 * 3 + 6 * 1 + 6 * 3 + 5 * 1 + 2 * 3 + 5 * 1 == 90\n",
      "Valid\n"
     ]
    }
   ],
   "source": [
    "# test simple number\n",
    "test = \"0316066524\"\n",
    "print(evalIsbn13(test), \"==\", isbn13Algorithm( convertIsbn10ToIsbn13(test) )) # convert for algorithm necessary just for testing\n",
    "print(checkIsbn13(test))"
   ]
  },
  {
   "attachments": {},
   "cell_type": "markdown",
   "metadata": {},
   "source": [
    "# Final Code Solution"
   ]
  },
  {
   "attachments": {},
   "cell_type": "markdown",
   "metadata": {},
   "source": [
    "Now that we have gotten our code to work, we can structure it in the requested format"
   ]
  },
  {
   "cell_type": "code",
   "execution_count": 158,
   "metadata": {},
   "outputs": [],
   "source": [
    "def isbn13(number):\n",
    "\n",
    "    if (len(number) == 13):\n",
    "        return checkIsbn13(number)\n",
    "    \n",
    "    elif (len(number) == 10):\n",
    "        answer = checkIsbn10(number)\n",
    "\n",
    "        if (answer == \"Invalid\"): return answer\n",
    "\n",
    "        # if ISBN-10 is valid, convert to ISBN-13\n",
    "        else: return convertIsbn10ToIsbn13(number)"
   ]
  },
  {
   "cell_type": "code",
   "execution_count": 162,
   "metadata": {},
   "outputs": [
    {
     "name": "stdout",
     "output_type": "stream",
     "text": [
      "Valid\n",
      "Invalid\n",
      "9780316066525\n"
     ]
    }
   ],
   "source": [
    "'''\n",
    "isbn13(\"9780316066525\") ➞ \"Valid\"\n",
    "\n",
    "isbn13(\"0330301824\") ➞ \"Invalid\"\n",
    "\n",
    "isbn13(\"0316066524\") ➞ \"9780316066525\"\n",
    "'''\n",
    "\n",
    "print(isbn13(\"9780316066525\"))\n",
    "\n",
    "print(isbn13(\"0330301824\"))\n",
    "\n",
    "print(isbn13(\"0316066524\"))"
   ]
  },
  {
   "attachments": {},
   "cell_type": "markdown",
   "metadata": {},
   "source": [
    "# Conclusion"
   ]
  },
  {
   "attachments": {},
   "cell_type": "markdown",
   "metadata": {},
   "source": [
    "Now that the Jupyter Notebook is complete, we can extract the relevant pieces of code and place it in a dedicated Python file. That File will then allow the user to quickly work with the program and verify the code is performing as expected.\n",
    "\n",
    "The primary purpose of this notebook was to show the breakdown of the problem and development of the solution"
   ]
  }
 ],
 "metadata": {
  "kernelspec": {
   "display_name": "Python 3",
   "language": "python",
   "name": "python3"
  },
  "language_info": {
   "codemirror_mode": {
    "name": "ipython",
    "version": 3
   },
   "file_extension": ".py",
   "mimetype": "text/x-python",
   "name": "python",
   "nbconvert_exporter": "python",
   "pygments_lexer": "ipython3",
   "version": "3.10.2"
  },
  "orig_nbformat": 4,
  "vscode": {
   "interpreter": {
    "hash": "b5edf4aafd403b2cf70148be9c82615f50a58203d7c680f27448ae2b8dfe93f4"
   }
  }
 },
 "nbformat": 4,
 "nbformat_minor": 2
}
